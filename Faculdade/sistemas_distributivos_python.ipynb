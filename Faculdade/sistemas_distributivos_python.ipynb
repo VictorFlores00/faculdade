{
  "cells": [
    {
      "cell_type": "markdown",
      "metadata": {
        "colab_type": "text",
        "id": "view-in-github"
      },
      "source": [
        "<a href=\"https://colab.research.google.com/github/VictorFlores00/ESTUDO/blob/master/sistemas_distributivos_python.ipynb\" target=\"_parent\"><img src=\"https://colab.research.google.com/assets/colab-badge.svg\" alt=\"Open In Colab\"/></a>"
      ]
    },
    {
      "cell_type": "code",
      "execution_count": null,
      "metadata": {
        "id": "T4NbqV6Fy4Pu"
      },
      "outputs": [],
      "source": [
        "# python lista - 05/09\n"
      ]
    },
    {
      "cell_type": "code",
      "execution_count": 6,
      "metadata": {
        "colab": {
          "base_uri": "https://localhost:8080/"
        },
        "id": "Ubtg4qtPxJfo",
        "outputId": "879f07db-70ea-47b1-cfd3-ee02ec1ad541"
      },
      "outputs": [
        {
          "data": {
            "text/plain": [
              "[1, 2, 3, 4, 5, 7]"
            ]
          },
          "execution_count": 6,
          "metadata": {},
          "output_type": "execute_result"
        }
      ],
      "source": [
        "n = [1, 2, 3, 4, 5]\n",
        "n.append(7)\n"
      ]
    },
    {
      "cell_type": "code",
      "execution_count": 10,
      "metadata": {
        "colab": {
          "base_uri": "https://localhost:8080/"
        },
        "id": "YZ53Ifzwydzu",
        "outputId": "9e2725ff-7dc5-4e2e-b159-cd7077d6b37a"
      },
      "outputs": [
        {
          "data": {
            "text/plain": [
              "5"
            ]
          },
          "execution_count": 10,
          "metadata": {},
          "output_type": "execute_result"
        }
      ],
      "source": [
        "n = [1, 2, 3, 4, 5, 7, \"a\", \"b\", \"c\"]\n",
        "n.index(7)"
      ]
    },
    {
      "cell_type": "code",
      "execution_count": 12,
      "metadata": {
        "colab": {
          "base_uri": "https://localhost:8080/"
        },
        "id": "cgu_CfzxzG1c",
        "outputId": "f64fc342-e133-4939-d40d-8efa71de17eb"
      },
      "outputs": [
        {
          "name": "stdout",
          "output_type": "stream",
          "text": [
            "[1, 2, 4, 5, 7, 'a', 'b', 'c']\n"
          ]
        }
      ],
      "source": [
        "n = [1, 2, 3, 4, 5, 7, \"a\", \"b\", \"c\"]\n",
        "n.pop(2) # retirou o 3\n",
        "print(n)"
      ]
    },
    {
      "cell_type": "markdown",
      "metadata": {
        "id": "raJWhIdgzuIj"
      },
      "source": [
        "# Tuplas\n"
      ]
    },
    {
      "cell_type": "code",
      "execution_count": 14,
      "metadata": {
        "colab": {
          "base_uri": "https://localhost:8080/",
          "height": 35
        },
        "id": "FKb2eCEkz1hS",
        "outputId": "07b60654-e41a-4ac1-8516-af74960d538e"
      },
      "outputs": [
        {
          "data": {
            "application/vnd.google.colaboratory.intrinsic+json": {
              "type": "string"
            },
            "text/plain": [
              "'gm'"
            ]
          },
          "execution_count": 14,
          "metadata": {},
          "output_type": "execute_result"
        }
      ],
      "source": [
        "m = \"gm\", \"ford\", \"fiat\", \"vw\"\n",
        "m [0]"
      ]
    },
    {
      "cell_type": "markdown",
      "metadata": {
        "id": "dAb0fvSs0Yxr"
      },
      "source": [
        "# Dicionários"
      ]
    },
    {
      "cell_type": "code",
      "execution_count": 15,
      "metadata": {
        "colab": {
          "base_uri": "https://localhost:8080/"
        },
        "id": "lRUaXZjE0e7K",
        "outputId": "07f3adac-5b92-4b1e-dec6-cee96d027a48"
      },
      "outputs": [
        {
          "data": {
            "text/plain": [
              "{'port': 8, 'ing': 7.4, 'mat': 9}"
            ]
          },
          "execution_count": 15,
          "metadata": {},
          "output_type": "execute_result"
        }
      ],
      "source": [
        "n = {\"port\":8, \"ing\":7.4, \"mat\":9}\n",
        "n"
      ]
    },
    {
      "cell_type": "markdown",
      "metadata": {
        "id": "JT0Iw6xn04Yj"
      },
      "source": [
        "Criar um dicionário com os times por estado"
      ]
    },
    {
      "cell_type": "code",
      "execution_count": 28,
      "metadata": {
        "colab": {
          "base_uri": "https://localhost:8080/"
        },
        "id": "8YyFZEhX09lq",
        "outputId": "c293bc05-d935-4315-f342-448d2e758aec"
      },
      "outputs": [
        {
          "name": "stdout",
          "output_type": "stream",
          "text": [
            "COR\n"
          ]
        }
      ],
      "source": [
        "t = {\"MG\":\"AT\", \"SP\":\"COR\", \"FLA\":\"RJ\"}\n",
        "#t.items()\n",
        "#t.values()\n",
        "#t.keys()\n",
        "print(t.get(\"SP\"))"
      ]
    },
    {
      "cell_type": "code",
      "execution_count": 49,
      "metadata": {
        "colab": {
          "base_uri": "https://localhost:8080/"
        },
        "id": "lHD4CR_j-v1K",
        "outputId": "86572586-b2fe-4ecf-9173-4e2a51889134"
      },
      "outputs": [
        {
          "name": "stdout",
          "output_type": "stream",
          "text": [
            "b\n",
            "a\n",
            "n\n",
            "a\n",
            "n\n",
            "a\n"
          ]
        }
      ],
      "source": [
        "for x in \"banana\":\n",
        "  print(x)"
      ]
    },
    {
      "cell_type": "code",
      "execution_count": 33,
      "metadata": {
        "colab": {
          "base_uri": "https://localhost:8080/"
        },
        "id": "kmUhNfjo7t52",
        "outputId": "b88c3e5e-05cd-4926-b9bb-7980be7c3cde"
      },
      "outputs": [
        {
          "name": "stdout",
          "output_type": "stream",
          "text": [
            "maçã\n",
            "banana\n",
            "limão\n",
            "laranja\n",
            "fim\n"
          ]
        }
      ],
      "source": [
        "lista = [\"maçã\", \"banana\", \"limão\", \"laranja\", \"fim\"]\n",
        "for x in lista:\n",
        "  print(x)\n",
        "  if x == \"fim\":\n",
        "    break"
      ]
    },
    {
      "cell_type": "code",
      "execution_count": 38,
      "metadata": {
        "colab": {
          "base_uri": "https://localhost:8080/"
        },
        "id": "KPwk3qfQ8O2N",
        "outputId": "df9213ea-f87a-4f4f-9a1d-18249b6cfaa8"
      },
      "outputs": [
        {
          "name": "stdout",
          "output_type": "stream",
          "text": [
            "maçã\n",
            "banana\n",
            "limão\n",
            "laranja\n"
          ]
        }
      ],
      "source": [
        "lista = [\"maçã\", \"banana\", \"limão\", \"laranja\", \"fim\"]\n",
        "for x in lista:\n",
        "  if x == \"fim\":\n",
        "    break\n",
        "  print(x)"
      ]
    },
    {
      "cell_type": "code",
      "execution_count": 40,
      "metadata": {
        "colab": {
          "base_uri": "https://localhost:8080/"
        },
        "id": "03X-9E6D8vlG",
        "outputId": "3ab62e27-8fbd-407f-8a01-4f889acff7dc"
      },
      "outputs": [
        {
          "name": "stdout",
          "output_type": "stream",
          "text": [
            "0\n",
            "1\n",
            "2\n",
            "3\n"
          ]
        }
      ],
      "source": [
        "lista = [\"maçã\", \"banana\", \"limão\", \"laranja\", \"fim\"]\n",
        "for x in range(0,4):\n",
        "  if x ==\"fim\":\n",
        "    break\n",
        "  print(x)"
      ]
    },
    {
      "cell_type": "code",
      "execution_count": 61,
      "metadata": {
        "colab": {
          "base_uri": "https://localhost:8080/"
        },
        "id": "b46I_7xK98aT",
        "outputId": "8154e0e7-2ec4-46cb-e6e5-3f4479cc530c"
      },
      "outputs": [
        {
          "name": "stdout",
          "output_type": "stream",
          "text": [
            "1\n"
          ]
        }
      ],
      "source": [
        "for x in range(1, 8, 2): #início, fim e salto.\n",
        "  if x == 1: # break\n",
        "    print(x)\n",
        "# else:\n",
        "  # print(\"Fim\")"
      ]
    },
    {
      "cell_type": "code",
      "execution_count": 70,
      "metadata": {
        "colab": {
          "base_uri": "https://localhost:8080/"
        },
        "id": "75c1c8HzFYkA",
        "outputId": "90ef31dc-b179-482f-dc62-31139d6d7f97"
      },
      "outputs": [
        {
          "name": "stdout",
          "output_type": "stream",
          "text": [
            "pr_bh\n",
            "pr_sp\n",
            "pr_rj\n",
            "pr_df\n",
            "pr_pa\n",
            "pr_pr\n",
            "pr_mt\n",
            "pr_ms\n",
            "pr_rn\n"
          ]
        }
      ],
      "source": [
        "cidades = [\"bh\", \"sp\", \"rj\", \"df\", \"pa\", \"pr\", \"mt\", \"ms\", \"rn\"]\n",
        "\n",
        "for sul in cidades:\n",
        "  print(\"pr_\" + sul)"
      ]
    },
    {
      "cell_type": "code",
      "execution_count": 73,
      "metadata": {
        "colab": {
          "base_uri": "https://localhost:8080/"
        },
        "id": "PzYgAbYKHI5n",
        "outputId": "b59d02e1-ff6b-456e-a1b0-2b8294e3121d"
      },
      "outputs": [
        {
          "data": {
            "text/plain": [
              "[0, 1, 4, 9, 16, 25, 36, 49, 64, 81, 100]"
            ]
          },
          "execution_count": 73,
          "metadata": {},
          "output_type": "execute_result"
        }
      ],
      "source": [
        "q = []\n",
        "for n in range(11):\n",
        "  q.append(n ** 2)\n",
        "q"
      ]
    },
    {
      "cell_type": "code",
      "execution_count": 51,
      "metadata": {
        "colab": {
          "base_uri": "https://localhost:8080/"
        },
        "id": "8T9XGxQV_Juh",
        "outputId": "bff31184-b08d-4b33-d558-7bc4fea97bd7"
      },
      "outputs": [
        {
          "name": "stdout",
          "output_type": "stream",
          "text": [
            "b > a\n"
          ]
        }
      ],
      "source": [
        "a = 33\n",
        "b = 34\n",
        "\n",
        "if a > b:\n",
        "  print(\"a > b\")\n",
        "elif b > a:\n",
        "  print(\"b > a\")\n",
        "else:\n",
        "  print(\"igual\")"
      ]
    },
    {
      "cell_type": "code",
      "execution_count": 53,
      "metadata": {
        "colab": {
          "base_uri": "https://localhost:8080/"
        },
        "id": "d8YPx1iE_xvy",
        "outputId": "934494e7-bec3-4e8a-d74a-b71c207358cf"
      },
      "outputs": [
        {
          "name": "stdout",
          "output_type": "stream",
          "text": [
            "=\n"
          ]
        }
      ],
      "source": [
        "a = 33\n",
        "b = 33\n",
        "\n",
        "if a > b or b > a:\n",
        " print(\"~\")\n",
        "else:\n",
        "  print(\"=\")"
      ]
    },
    {
      "cell_type": "code",
      "execution_count": null,
      "metadata": {
        "id": "JNLYuFZOEZwp"
      },
      "outputs": [],
      "source": []
    },
    {
      "cell_type": "code",
      "execution_count": 41,
      "metadata": {
        "colab": {
          "base_uri": "https://localhost:8080/"
        },
        "id": "l6phuivN9WUs",
        "outputId": "92e3d636-dd16-4a5c-949a-8992e424275a"
      },
      "outputs": [
        {
          "name": "stdout",
          "output_type": "stream",
          "text": [
            "maçã vermelha, pequena, saborosa\n",
            "banana vermelha, pequena, saborosa\n",
            "limão vermelha, pequena, saborosa\n",
            "laranja vermelha, pequena, saborosa\n",
            "fim vermelha, pequena, saborosa\n"
          ]
        }
      ],
      "source": [
        "frutas = [\"maçã\", \"banana\", \"limão\", \"laranja\", \"fim\"]\n",
        "adj  = [\"vermelha, pequena, saborosa\"]\n",
        "\n",
        "for x in frutas:\n",
        "  for y in adj:\n",
        "    print(x,y)"
      ]
    },
    {
      "cell_type": "code",
      "execution_count": 32,
      "metadata": {
        "colab": {
          "base_uri": "https://localhost:8080/"
        },
        "id": "IRc-SZJL5Nfb",
        "outputId": "b27f4790-ee45-4a9a-e94d-0e147e23a9f5"
      },
      "outputs": [
        {
          "name": "stdout",
          "output_type": "stream",
          "text": [
            "1\n",
            "2\n",
            "3\n",
            "4\n",
            "5\n",
            "**\n"
          ]
        }
      ],
      "source": [
        "i = 1\n",
        "while i < 6:\n",
        "  print(i)\n",
        "  i += 1\n",
        "else:\n",
        "    print(\"**\")\n"
      ]
    },
    {
      "cell_type": "code",
      "execution_count": 78,
      "metadata": {
        "id": "4bE5u2MMH3T0"
      },
      "outputs": [],
      "source": [
        "def _m_function():\n",
        "  print(\"Hello\")\n",
        "\n",
        "\n",
        "\n",
        "\n"
      ]
    },
    {
      "cell_type": "code",
      "execution_count": 87,
      "metadata": {
        "colab": {
          "base_uri": "https://localhost:8080/"
        },
        "id": "cWWAFjZ5I7kK",
        "outputId": "2d2bfe17-7a6a-49a4-ba27-3bcf52ad8ed9"
      },
      "outputs": [
        {
          "name": "stdout",
          "output_type": "stream",
          "text": [
            "exemplo\n",
            "1\n",
            "3\n",
            "6\n",
            "10\n",
            "15\n"
          ]
        },
        {
          "data": {
            "text/plain": [
              "15"
            ]
          },
          "execution_count": 87,
          "metadata": {},
          "output_type": "execute_result"
        }
      ],
      "source": [
        "#def exp(z,n):\n",
        "# return z ** n\n",
        "\n",
        "def x(z):\n",
        "  if (z > 0):\n",
        "    result = z + x(z -1)\n",
        "    print(result)\n",
        "  else:\n",
        "    result = 0\n",
        "  return result\n",
        "\n",
        "print(\"exemplo\")\n",
        "\n",
        "x(5)\n",
        "\n"
      ]
    },
    {
      "cell_type": "code",
      "execution_count": 88,
      "metadata": {
        "colab": {
          "base_uri": "https://localhost:8080/"
        },
        "id": "_m8o5ekkMBJi",
        "outputId": "51ced7b5-d1c0-44d0-de41-62fbd011077a"
      },
      "outputs": [
        {
          "name": "stdout",
          "output_type": "stream",
          "text": [
            "         Data  Valor       Produto  Quantidade\n",
            "0  18/02/2022   5000   pincel azul        1000\n",
            "1  13/08/2022  12000      apagador        1200\n",
            "2  23/03/2022  10000  pincel preto        2000\n"
          ]
        }
      ],
      "source": [
        "import pandas as pd\n",
        "v = {\"Data\": [\"18/02/2022\", \"13/08/2022\", \"23/03/2022\"],\n",
        "     \"Valor\": [5000, 12000, 10000], \n",
        "     \"Produto\": [\"pincel azul\", \"apagador\",  \"pincel preto\"], \n",
        "     \"Quantidade\": [1000, 1200, 2000]}\n",
        "\n",
        "t_v = pd.DataFrame(v)\n",
        "print(t_v)"
      ]
    },
    {
      "cell_type": "code",
      "execution_count": null,
      "metadata": {
        "id": "S66QqPZ1MvX7"
      },
      "outputs": [],
      "source": [
        "!pip install geopanda"
      ]
    }
  ],
  "metadata": {
    "colab": {
      "authorship_tag": "ABX9TyMZDMQC9Vg01uTQgD2p1zDj",
      "collapsed_sections": [],
      "include_colab_link": true,
      "provenance": []
    },
    "kernelspec": {
      "display_name": "Python 3.10.7 64-bit (microsoft store)",
      "language": "python",
      "name": "python3"
    },
    "language_info": {
      "name": "python",
      "version": "3.10.7"
    },
    "vscode": {
      "interpreter": {
        "hash": "a141e979f47d0321f552a3a7e629b4f252c2696d405db34dd45befa51abe3df3"
      }
    }
  },
  "nbformat": 4,
  "nbformat_minor": 0
}
